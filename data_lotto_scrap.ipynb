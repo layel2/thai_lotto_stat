{
 "cells": [
  {
   "cell_type": "code",
   "execution_count": 1,
   "metadata": {},
   "outputs": [],
   "source": [
    "import numpy as np\n",
    "from matplotlib import pyplot as plt\n",
    "import pandas as pd"
   ]
  },
  {
   "cell_type": "code",
   "execution_count": 2,
   "metadata": {},
   "outputs": [],
   "source": [
    "x = np.random.randint(0,10,(400,50)).mean(axis=0)\n",
    "x.sort()"
   ]
  },
  {
   "cell_type": "code",
   "execution_count": 3,
   "metadata": {},
   "outputs": [
    {
     "data": {
      "text/plain": [
       "(array([1., 1., 1., 1., 0., 4., 3., 4., 6., 9., 4., 5., 0., 4., 0., 2., 1.,\n",
       "        1., 2., 1.]),\n",
       " array([4.185   , 4.218375, 4.25175 , 4.285125, 4.3185  , 4.351875,\n",
       "        4.38525 , 4.418625, 4.452   , 4.485375, 4.51875 , 4.552125,\n",
       "        4.5855  , 4.618875, 4.65225 , 4.685625, 4.719   , 4.752375,\n",
       "        4.78575 , 4.819125, 4.8525  ]),\n",
       " <a list of 20 Patch objects>)"
      ]
     },
     "execution_count": 3,
     "metadata": {},
     "output_type": "execute_result"
    },
    {
     "data": {
      "image/png": "[encoded data removed]",
      "text/plain": [
       "<Figure size 432x288 with 1 Axes>"
      ]
     },
     "metadata": {
      "needs_background": "light"
     },
     "output_type": "display_data"
    }
   ],
   "source": [
    "plt.hist(x,bins=20)"
   ]
  },
  {
   "cell_type": "code",
   "execution_count": 4,
   "metadata": {},
   "outputs": [
    {
     "data": {
      "text/plain": [
       "array([4.185 , 4.225 , 4.275 , 4.2975, 4.3725, 4.375 , 4.3775, 4.38  ,\n",
       "       4.3975, 4.405 , 4.4175, 4.4225, 4.4425, 4.4475, 4.45  , 4.4675,\n",
       "       4.47  , 4.4725, 4.4775, 4.4775, 4.4825, 4.4875, 4.4875, 4.49  ,\n",
       "       4.49  , 4.5025, 4.5025, 4.505 , 4.5175, 4.5175, 4.52  , 4.5225,\n",
       "       4.525 , 4.53  , 4.5525, 4.555 , 4.5625, 4.57  , 4.58  , 4.6325,\n",
       "       4.64  , 4.64  , 4.6475, 4.6925, 4.705 , 4.7325, 4.765 , 4.79  ,\n",
       "       4.81  , 4.8525])"
      ]
     },
     "execution_count": 4,
     "metadata": {},
     "output_type": "execute_result"
    }
   ],
   "source": [
    "x"
   ]
  },
  {
   "cell_type": "code",
   "execution_count": 5,
   "metadata": {},
   "outputs": [],
   "source": [
    "import requests\n",
    "from bs4 import BeautifulSoup"
   ]
  },
  {
   "cell_type": "code",
   "execution_count": 6,
   "metadata": {},
   "outputs": [],
   "source": [
    "\n",
    "headers = {'User-Agent': 'Mozilla/5.0 (Macintosh; Intel Mac OS X 10_11_5) AppleWebKit/537.36 (KHTML, like Gecko) Chrome/50.0.2661.102 Safari/537.36'}\n",
    "r = requests.get(\"https://www.lottery.co.th/lotto/1-09-63\",headers=headers)\n",
    "\n",
    "soup = BeautifulSoup(r.content, \"html.parser\")"
   ]
  },
  {
   "cell_type": "code",
   "execution_count": 7,
   "metadata": {},
   "outputs": [
    {
     "data": {
      "text/plain": [
       "[<strong id=\"mybig1\">999997</strong>]"
      ]
     },
     "execution_count": 7,
     "metadata": {},
     "output_type": "execute_result"
    }
   ],
   "source": [
    "soup.find_all('strong',{\"id\":\"mybig1\"})"
   ]
  },
  {
   "cell_type": "code",
   "execution_count": 8,
   "metadata": {},
   "outputs": [
    {
     "data": {
      "text/plain": [
       "[<strong id=\"mybig2\">98</strong>]"
      ]
     },
     "execution_count": 8,
     "metadata": {},
     "output_type": "execute_result"
    }
   ],
   "source": [
    "soup.find_all('strong',{\"id\":\"mybig2\"})"
   ]
  },
  {
   "cell_type": "code",
   "execution_count": 9,
   "metadata": {},
   "outputs": [
    {
     "data": {
      "text/plain": [
       "[<strong class=\"mybig3\">725</strong>,\n",
       " <strong class=\"mybig3\">636</strong>,\n",
       " <strong class=\"mybig3\">957</strong>,\n",
       " <strong class=\"mybig3\">342</strong>]"
      ]
     },
     "execution_count": 9,
     "metadata": {},
     "output_type": "execute_result"
    }
   ],
   "source": [
    "soup.find_all('strong',{\"class\":\"mybig3\"})"
   ]
  },
  {
   "cell_type": "code",
   "execution_count": 10,
   "metadata": {},
   "outputs": [
    {
     "data": {
      "text/plain": [
       "[<td>071298</td>,\n",
       " <td>283972</td>,\n",
       " <td>301191</td>,\n",
       " <td>622808</td>,\n",
       " <td>838934</td>]"
      ]
     },
     "execution_count": 10,
     "metadata": {},
     "output_type": "execute_result"
    }
   ],
   "source": [
    "soup.find_all('table',{\"id\":\"reward2\"})[0].find_all('td')"
   ]
  },
  {
   "cell_type": "code",
   "execution_count": 11,
   "metadata": {},
   "outputs": [],
   "source": [
    "x = [i.text for i in soup.find_all('table',{\"id\":\"reward3\"})[0].find_all('td')]"
   ]
  },
  {
   "cell_type": "code",
   "execution_count": 12,
   "metadata": {},
   "outputs": [
    {
     "data": {
      "text/plain": [
       "['183523',\n",
       " '304732',\n",
       " '310680',\n",
       " '454913',\n",
       " '669274',\n",
       " '757539',\n",
       " '777521',\n",
       " '797960',\n",
       " '810362',\n",
       " '895221']"
      ]
     },
     "execution_count": 12,
     "metadata": {},
     "output_type": "execute_result"
    }
   ],
   "source": [
    "x"
   ]
  },
  {
   "cell_type": "code",
   "execution_count": 13,
   "metadata": {},
   "outputs": [
    {
     "data": {
      "text/plain": [
       "200"
      ]
     },
     "execution_count": 13,
     "metadata": {},
     "output_type": "execute_result"
    }
   ],
   "source": [
    "r.status_code "
   ]
  },
  {
   "cell_type": "code",
   "execution_count": 14,
   "metadata": {},
   "outputs": [],
   "source": [
    "df = pd.DataFrame(columns=['a','b'])"
   ]
  },
  {
   "cell_type": "code",
   "execution_count": 23,
   "metadata": {},
   "outputs": [
    {
     "name": "stdout",
     "output_type": "stream",
     "text": [
      "https://www.lottery.co.th/lotto/1-09-63\n",
      "https://www.lottery.co.th/lotto/16-08-63\n",
      "https://www.lottery.co.th/lotto/1-08-63\n",
      "https://www.lottery.co.th/lotto/16-07-63\n",
      "https://www.lottery.co.th/lotto/1-07-63\n",
      "https://www.lottery.co.th/lotto/16-06-63\n",
      "https://www.lottery.co.th/lotto/1-06-63\n",
      "https://www.lottery.co.th/lotto/1-04-63\n",
      "https://www.lottery.co.th/lotto/16-03-63\n",
      "https://www.lottery.co.th/lotto/1-03-63\n",
      "https://www.lottery.co.th/lotto/16-02-63\n",
      "https://www.lottery.co.th/lotto/1-02-63\n",
      "https://www.lottery.co.th/lotto/16-12-62\n",
      "https://www.lottery.co.th/lotto/1-12-62\n",
      "https://www.lottery.co.th/lotto/16-11-62\n",
      "https://www.lottery.co.th/lotto/1-11-62\n",
      "https://www.lottery.co.th/lotto/16-10-62\n",
      "https://www.lottery.co.th/lotto/1-10-62\n",
      "https://www.lottery.co.th/lotto/16-09-62\n",
      "https://www.lottery.co.th/lotto/1-09-62\n",
      "https://www.lottery.co.th/lotto/16-08-62\n",
      "https://www.lottery.co.th/lotto/1-08-62\n",
      "https://www.lottery.co.th/lotto/1-07-62\n",
      "https://www.lottery.co.th/lotto/16-06-62\n",
      "https://www.lottery.co.th/lotto/1-06-62\n",
      "https://www.lottery.co.th/lotto/16-05-62\n",
      "https://www.lottery.co.th/lotto/16-04-62\n",
      "https://www.lottery.co.th/lotto/1-04-62\n",
      "https://www.lottery.co.th/lotto/16-03-62\n",
      "https://www.lottery.co.th/lotto/1-03-62\n",
      "https://www.lottery.co.th/lotto/16-02-62\n",
      "https://www.lottery.co.th/lotto/1-02-62\n",
      "https://www.lottery.co.th/lotto/16-12-61\n",
      "https://www.lottery.co.th/lotto/1-12-61\n",
      "https://www.lottery.co.th/lotto/16-11-61\n",
      "https://www.lottery.co.th/lotto/1-11-61\n",
      "https://www.lottery.co.th/lotto/16-10-61\n",
      "https://www.lottery.co.th/lotto/1-10-61\n",
      "https://www.lottery.co.th/lotto/16-09-61\n",
      "https://www.lottery.co.th/lotto/1-09-61\n",
      "https://www.lottery.co.th/lotto/16-08-61\n",
      "https://www.lottery.co.th/lotto/1-08-61\n",
      "https://www.lottery.co.th/lotto/16-07-61\n",
      "https://www.lottery.co.th/lotto/1-07-61\n",
      "https://www.lottery.co.th/lotto/16-06-61\n",
      "https://www.lottery.co.th/lotto/1-06-61\n",
      "https://www.lottery.co.th/lotto/16-05-61\n",
      "https://www.lottery.co.th/lotto/16-04-61\n",
      "https://www.lottery.co.th/lotto/1-04-61\n",
      "https://www.lottery.co.th/lotto/16-03-61\n",
      "https://www.lottery.co.th/lotto/16-02-61\n",
      "https://www.lottery.co.th/lotto/1-02-61\n",
      "https://www.lottery.co.th/lotto/16-12-60\n",
      "https://www.lottery.co.th/lotto/1-12-60\n",
      "https://www.lottery.co.th/lotto/16-11-60\n",
      "https://www.lottery.co.th/lotto/1-11-60\n",
      "https://www.lottery.co.th/lotto/16-10-60\n",
      "https://www.lottery.co.th/lotto/1-10-60\n",
      "https://www.lottery.co.th/lotto/16-09-60\n",
      "https://www.lottery.co.th/lotto/1-09-60\n",
      "https://www.lottery.co.th/lotto/16-08-60\n",
      "https://www.lottery.co.th/lotto/1-08-60\n",
      "https://www.lottery.co.th/lotto/16-07-60\n",
      "https://www.lottery.co.th/lotto/1-07-60\n",
      "https://www.lottery.co.th/lotto/16-06-60\n",
      "https://www.lottery.co.th/lotto/1-06-60\n",
      "https://www.lottery.co.th/lotto/16-05-60\n",
      "https://www.lottery.co.th/lotto/16-04-60\n",
      "https://www.lottery.co.th/lotto/1-04-60\n",
      "https://www.lottery.co.th/lotto/16-03-60\n",
      "https://www.lottery.co.th/lotto/1-03-60\n",
      "https://www.lottery.co.th/lotto/16-02-60\n",
      "https://www.lottery.co.th/lotto/1-02-60\n",
      "https://www.lottery.co.th/lotto/16-12-59\n",
      "https://www.lottery.co.th/lotto/1-12-59\n",
      "https://www.lottery.co.th/lotto/16-11-59\n",
      "https://www.lottery.co.th/lotto/1-11-59\n",
      "https://www.lottery.co.th/lotto/16-10-59\n",
      "https://www.lottery.co.th/lotto/1-10-59\n",
      "https://www.lottery.co.th/lotto/16-09-59\n",
      "https://www.lottery.co.th/lotto/1-09-59\n",
      "https://www.lottery.co.th/lotto/16-08-59\n",
      "https://www.lottery.co.th/lotto/1-08-59\n",
      "https://www.lottery.co.th/lotto/16-07-59\n",
      "https://www.lottery.co.th/lotto/1-07-59\n",
      "https://www.lottery.co.th/lotto/16-06-59\n",
      "https://www.lottery.co.th/lotto/1-06-59\n",
      "https://www.lottery.co.th/lotto/16-05-59\n",
      "https://www.lottery.co.th/lotto/16-04-59\n",
      "https://www.lottery.co.th/lotto/1-04-59\n",
      "https://www.lottery.co.th/lotto/16-03-59\n",
      "https://www.lottery.co.th/lotto/1-03-59\n",
      "https://www.lottery.co.th/lotto/16-02-59\n",
      "https://www.lottery.co.th/lotto/1-02-59\n"
     ]
    }
   ],
   "source": [
    "headers = {'User-Agent': 'Mozilla/5.0 (Macintosh; Intel Mac OS X 10_11_5) AppleWebKit/537.36 (KHTML, like Gecko) Chrome/50.0.2661.102 Safari/537.36'}\n",
    "url_base = \"https://www.lottery.co.th/lotto/\"\n",
    "\n",
    "day_list = ['16','1']\n",
    "month_list = ['01','02','03','04','05','06','07','08','09','10','11','12']\n",
    "month_list.reverse()\n",
    "year_list = range(63,58,-1)\n",
    "\n",
    "big1 ,big2 ,big3 ,reward2 , reward3 = [],[],[],[],[]\n",
    "urllist = []\n",
    "for year in year_list:\n",
    "    for month in month_list:\n",
    "        for day in day_list:\n",
    "            url = url_base+str(day)+'-'+str(month)+'-'+str(year)\n",
    "            r = requests.get(url,headers=headers)\n",
    "            if r.status_code != 200:\n",
    "                continue\n",
    "            print(url)\n",
    "            soup = BeautifulSoup(r.content, \"html.parser\")\n",
    "            tempbig1 = [i.text for i in soup.find_all('strong',{\"id\":\"mybig1\"})]\n",
    "            tempbig2 = [i.text for i in soup.find_all('strong',{\"id\":\"mybig2\"})]\n",
    "            tempbig3 = [i.text for i in soup.find_all('strong',{\"class\":\"mybig3\"})]\n",
    "            temprew2 =  [i.text for i in soup.find_all('table',{\"id\":\"reward2\"})[0].find_all('td')]\n",
    "            temprew3 =  [i.text for i in soup.find_all('table',{\"id\":\"reward3\"})[0].find_all('td')]\n",
    "            big1.append(tempbig1)\n",
    "            big2.append(tempbig2)\n",
    "            big3.append(tempbig3)\n",
    "            reward2.append(temprew2)\n",
    "            reward3.append(temprew3)\n",
    "            urllist.append(url)\n",
    "            \n"
   ]
  },
  {
   "cell_type": "code",
   "execution_count": 47,
   "metadata": {
    "scrolled": true
   },
   "outputs": [
    {
     "data": {
      "text/plain": [
       "[['999997'],\n",
       " ['945811'],\n",
       " ['569391'],\n",
       " ['873286'],\n",
       " ['347258'],\n",
       " ['516967'],\n",
       " ['831567'],\n",
       " ['051095'],\n",
       " ['503446'],\n",
       " ['875938'],\n",
       " ['781403'],\n",
       " ['589227'],\n",
       " ['529924'],\n",
       " ['453522'],\n",
       " ['017223'],\n",
       " ['967375'],\n",
       " ['812564'],\n",
       " ['691197'],\n",
       " ['340388'],\n",
       " ['798787'],\n",
       " ['775476'],\n",
       " ['387006'],\n",
       " ['943647'],\n",
       " ['174055'],\n",
       " ['516461'],\n",
       " ['962526'],\n",
       " ['570331'],\n",
       " ['109767'],\n",
       " ['724628'],\n",
       " ['345650'],\n",
       " ['074824'],\n",
       " ['967134'],\n",
       " ['356564'],\n",
       " ['021840'],\n",
       " ['989903'],\n",
       " ['149840'],\n",
       " ['200515'],\n",
       " ['452643'],\n",
       " ['149760'],\n",
       " ['734510'],\n",
       " ['586117'],\n",
       " ['386602'],\n",
       " ['596324'],\n",
       " ['963623'],\n",
       " ['223131'],\n",
       " ['988117'],\n",
       " ['075629'],\n",
       " ['739229'],\n",
       " ['412073'],\n",
       " ['218559'],\n",
       " ['309915'],\n",
       " ['026853'],\n",
       " ['955596'],\n",
       " ['451005'],\n",
       " ['292391'],\n",
       " ['533726'],\n",
       " ['413494'],\n",
       " ['880714'],\n",
       " ['170143'],\n",
       " ['143224'],\n",
       " ['715431'],\n",
       " ['756519'],\n",
       " ['820327'],\n",
       " ['112360'],\n",
       " ['943142'],\n",
       " ['053630'],\n",
       " ['454891'],\n",
       " ['816729'],\n",
       " ['392785'],\n",
       " ['273863'],\n",
       " ['978453'],\n",
       " ['229116'],\n",
       " ['054672'],\n",
       " ['435286'],\n",
       " [],\n",
       " [],\n",
       " [],\n",
       " [],\n",
       " [],\n",
       " [],\n",
       " [],\n",
       " [],\n",
       " [],\n",
       " [],\n",
       " [],\n",
       " [],\n",
       " [],\n",
       " [],\n",
       " [],\n",
       " [],\n",
       " [],\n",
       " [],\n",
       " [],\n",
       " []]"
      ]
     },
     "execution_count": 47,
     "metadata": {},
     "output_type": "execute_result"
    }
   ],
   "source": [
    "big1"
   ]
  },
  {
   "cell_type": "code",
   "execution_count": 40,
   "metadata": {},
   "outputs": [],
   "source": [
    "data = np.hstack([np.array(urllist[:-21]).reshape(-1,1),np.array(big1[:-21]),np.array(big2[:-21]) , np.array(big3[:-21]) , np.array(reward2[:-21]), np.array(reward3[:-21] )])"
   ]
  },
  {
   "cell_type": "code",
   "execution_count": 42,
   "metadata": {},
   "outputs": [
    {
     "data": {
      "text/plain": [
       "array([['https://www.lottery.co.th/lotto/1-09-63', '999997', '98', ...,\n",
       "        '797960', '810362', '895221'],\n",
       "       ['https://www.lottery.co.th/lotto/16-08-63', '945811', '88', ...,\n",
       "        '858319', '885671', '907940'],\n",
       "       ['https://www.lottery.co.th/lotto/1-08-63', '569391', '92', ...,\n",
       "        '745312', '777509', '810800'],\n",
       "       ...,\n",
       "       ['https://www.lottery.co.th/lotto/1-03-60', '978453', '78', ...,\n",
       "        '566068', '737650', '760482'],\n",
       "       ['https://www.lottery.co.th/lotto/16-02-60', '229116', '14', ...,\n",
       "        '845080', '961307', '980260'],\n",
       "       ['https://www.lottery.co.th/lotto/1-02-60', '054672', '42', ...,\n",
       "        '828244', '830032', '999774']], dtype='<U40')"
      ]
     },
     "execution_count": 42,
     "metadata": {},
     "output_type": "execute_result"
    }
   ],
   "source": [
    "data"
   ]
  },
  {
   "cell_type": "code",
   "execution_count": 43,
   "metadata": {},
   "outputs": [],
   "source": [
    "data = pd.DataFrame(data)"
   ]
  },
  {
   "cell_type": "code",
   "execution_count": 44,
   "metadata": {},
   "outputs": [
    {
     "data": {
      "text/html": [
       "<div>\n",
       "<style scoped>\n",
       "    .dataframe tbody tr th:only-of-type {\n",
       "        vertical-align: middle;\n",
       "    }\n",
       "\n",
       "    .dataframe tbody tr th {\n",
       "        vertical-align: top;\n",
       "    }\n",
       "\n",
       "    .dataframe thead th {\n",
       "        text-align: right;\n",
       "    }\n",
       "</style>\n",
       "<table border=\"1\" class=\"dataframe\">\n",
       "  <thead>\n",
       "    <tr style=\"text-align: right;\">\n",
       "      <th></th>\n",
       "      <th>0</th>\n",
       "      <th>1</th>\n",
       "      <th>2</th>\n",
       "      <th>3</th>\n",
       "      <th>4</th>\n",
       "      <th>5</th>\n",
       "      <th>6</th>\n",
       "      <th>7</th>\n",
       "      <th>8</th>\n",
       "      <th>9</th>\n",
       "      <th>...</th>\n",
       "      <th>12</th>\n",
       "      <th>13</th>\n",
       "      <th>14</th>\n",
       "      <th>15</th>\n",
       "      <th>16</th>\n",
       "      <th>17</th>\n",
       "      <th>18</th>\n",
       "      <th>19</th>\n",
       "      <th>20</th>\n",
       "      <th>21</th>\n",
       "    </tr>\n",
       "  </thead>\n",
       "  <tbody>\n",
       "    <tr>\n",
       "      <th>0</th>\n",
       "      <td>https://www.lottery.co.th/lotto/1-09-63</td>\n",
       "      <td>999997</td>\n",
       "      <td>98</td>\n",
       "      <td>725</td>\n",
       "      <td>636</td>\n",
       "      <td>957</td>\n",
       "      <td>342</td>\n",
       "      <td>071298</td>\n",
       "      <td>283972</td>\n",
       "      <td>301191</td>\n",
       "      <td>...</td>\n",
       "      <td>183523</td>\n",
       "      <td>304732</td>\n",
       "      <td>310680</td>\n",
       "      <td>454913</td>\n",
       "      <td>669274</td>\n",
       "      <td>757539</td>\n",
       "      <td>777521</td>\n",
       "      <td>797960</td>\n",
       "      <td>810362</td>\n",
       "      <td>895221</td>\n",
       "    </tr>\n",
       "    <tr>\n",
       "      <th>1</th>\n",
       "      <td>https://www.lottery.co.th/lotto/16-08-63</td>\n",
       "      <td>945811</td>\n",
       "      <td>88</td>\n",
       "      <td>712</td>\n",
       "      <td>614</td>\n",
       "      <td>364</td>\n",
       "      <td>733</td>\n",
       "      <td>076190</td>\n",
       "      <td>290322</td>\n",
       "      <td>324730</td>\n",
       "      <td>...</td>\n",
       "      <td>025918</td>\n",
       "      <td>149654</td>\n",
       "      <td>155863</td>\n",
       "      <td>541281</td>\n",
       "      <td>583811</td>\n",
       "      <td>736329</td>\n",
       "      <td>858011</td>\n",
       "      <td>858319</td>\n",
       "      <td>885671</td>\n",
       "      <td>907940</td>\n",
       "    </tr>\n",
       "    <tr>\n",
       "      <th>2</th>\n",
       "      <td>https://www.lottery.co.th/lotto/1-08-63</td>\n",
       "      <td>569391</td>\n",
       "      <td>92</td>\n",
       "      <td>931</td>\n",
       "      <td>575</td>\n",
       "      <td>578</td>\n",
       "      <td>809</td>\n",
       "      <td>101633</td>\n",
       "      <td>512010</td>\n",
       "      <td>544525</td>\n",
       "      <td>...</td>\n",
       "      <td>030131</td>\n",
       "      <td>036873</td>\n",
       "      <td>085905</td>\n",
       "      <td>118907</td>\n",
       "      <td>136551</td>\n",
       "      <td>308143</td>\n",
       "      <td>403720</td>\n",
       "      <td>745312</td>\n",
       "      <td>777509</td>\n",
       "      <td>810800</td>\n",
       "    </tr>\n",
       "    <tr>\n",
       "      <th>3</th>\n",
       "      <td>https://www.lottery.co.th/lotto/16-07-63</td>\n",
       "      <td>873286</td>\n",
       "      <td>53</td>\n",
       "      <td>510</td>\n",
       "      <td>533</td>\n",
       "      <td>682</td>\n",
       "      <td>494</td>\n",
       "      <td>265514</td>\n",
       "      <td>741212</td>\n",
       "      <td>906944</td>\n",
       "      <td>...</td>\n",
       "      <td>073630</td>\n",
       "      <td>143752</td>\n",
       "      <td>173669</td>\n",
       "      <td>330820</td>\n",
       "      <td>473357</td>\n",
       "      <td>792949</td>\n",
       "      <td>845538</td>\n",
       "      <td>857511</td>\n",
       "      <td>861354</td>\n",
       "      <td>898120</td>\n",
       "    </tr>\n",
       "    <tr>\n",
       "      <th>4</th>\n",
       "      <td>https://www.lottery.co.th/lotto/1-07-63</td>\n",
       "      <td>347258</td>\n",
       "      <td>83</td>\n",
       "      <td>362</td>\n",
       "      <td>095</td>\n",
       "      <td>307</td>\n",
       "      <td>094</td>\n",
       "      <td>059367</td>\n",
       "      <td>165108</td>\n",
       "      <td>443218</td>\n",
       "      <td>...</td>\n",
       "      <td>030000</td>\n",
       "      <td>035010</td>\n",
       "      <td>167559</td>\n",
       "      <td>408333</td>\n",
       "      <td>458572</td>\n",
       "      <td>569662</td>\n",
       "      <td>699988</td>\n",
       "      <td>729594</td>\n",
       "      <td>758112</td>\n",
       "      <td>820265</td>\n",
       "    </tr>\n",
       "  </tbody>\n",
       "</table>\n",
       "<p>5 rows × 22 columns</p>\n",
       "</div>"
      ],
      "text/plain": [
       "                                         0       1   2    3    4    5    6   \\\n",
       "0   https://www.lottery.co.th/lotto/1-09-63  999997  98  725  636  957  342   \n",
       "1  https://www.lottery.co.th/lotto/16-08-63  945811  88  712  614  364  733   \n",
       "2   https://www.lottery.co.th/lotto/1-08-63  569391  92  931  575  578  809   \n",
       "3  https://www.lottery.co.th/lotto/16-07-63  873286  53  510  533  682  494   \n",
       "4   https://www.lottery.co.th/lotto/1-07-63  347258  83  362  095  307  094   \n",
       "\n",
       "       7       8       9   ...      12      13      14      15      16  \\\n",
       "0  071298  283972  301191  ...  183523  304732  310680  454913  669274   \n",
       "1  076190  290322  324730  ...  025918  149654  155863  541281  583811   \n",
       "2  101633  512010  544525  ...  030131  036873  085905  118907  136551   \n",
       "3  265514  741212  906944  ...  073630  143752  173669  330820  473357   \n",
       "4  059367  165108  443218  ...  030000  035010  167559  408333  458572   \n",
       "\n",
       "       17      18      19      20      21  \n",
       "0  757539  777521  797960  810362  895221  \n",
       "1  736329  858011  858319  885671  907940  \n",
       "2  308143  403720  745312  777509  810800  \n",
       "3  792949  845538  857511  861354  898120  \n",
       "4  569662  699988  729594  758112  820265  \n",
       "\n",
       "[5 rows x 22 columns]"
      ]
     },
     "execution_count": 44,
     "metadata": {},
     "output_type": "execute_result"
    }
   ],
   "source": [
    "data.head()"
   ]
  },
  {
   "cell_type": "code",
   "execution_count": 45,
   "metadata": {},
   "outputs": [],
   "source": [
    "data.to_csv('lottodata.csv')"
   ]
  },
  {
   "cell_type": "code",
   "execution_count": 216,
   "metadata": {},
   "outputs": [
    {
     "data": {
      "text/html": [
       "<div>\n",
       "<style scoped>\n",
       "    .dataframe tbody tr th:only-of-type {\n",
       "        vertical-align: middle;\n",
       "    }\n",
       "\n",
       "    .dataframe tbody tr th {\n",
       "        vertical-align: top;\n",
       "    }\n",
       "\n",
       "    .dataframe thead th {\n",
       "        text-align: right;\n",
       "    }\n",
       "</style>\n",
       "<table border=\"1\" class=\"dataframe\">\n",
       "  <thead>\n",
       "    <tr style=\"text-align: right;\">\n",
       "      <th></th>\n",
       "      <th>0</th>\n",
       "      <th>1</th>\n",
       "      <th>2</th>\n",
       "      <th>3</th>\n",
       "      <th>4</th>\n",
       "      <th>5</th>\n",
       "      <th>6</th>\n",
       "      <th>7</th>\n",
       "      <th>8</th>\n",
       "      <th>9</th>\n",
       "      <th>...</th>\n",
       "      <th>84</th>\n",
       "      <th>85</th>\n",
       "      <th>86</th>\n",
       "      <th>87</th>\n",
       "      <th>88</th>\n",
       "      <th>89</th>\n",
       "      <th>90</th>\n",
       "      <th>91</th>\n",
       "      <th>92</th>\n",
       "      <th>93</th>\n",
       "    </tr>\n",
       "  </thead>\n",
       "  <tbody>\n",
       "    <tr>\n",
       "      <th>0</th>\n",
       "      <td>[589227]</td>\n",
       "      <td>[781403]</td>\n",
       "      <td>[875938]</td>\n",
       "      <td>[503446]</td>\n",
       "      <td>[051095]</td>\n",
       "      <td>[831567]</td>\n",
       "      <td>[516967]</td>\n",
       "      <td>[347258]</td>\n",
       "      <td>[873286]</td>\n",
       "      <td>[569391]</td>\n",
       "      <td>...</td>\n",
       "      <td>[]</td>\n",
       "      <td>[]</td>\n",
       "      <td>[]</td>\n",
       "      <td>[]</td>\n",
       "      <td>[]</td>\n",
       "      <td>[]</td>\n",
       "      <td>[]</td>\n",
       "      <td>[]</td>\n",
       "      <td>[]</td>\n",
       "      <td>[435286]</td>\n",
       "    </tr>\n",
       "    <tr>\n",
       "      <th>1</th>\n",
       "      <td>[041656, 102110, 574473, 679758, 912367]</td>\n",
       "      <td>[031350, 186877, 236727, 320101, 624778]</td>\n",
       "      <td>[060416, 493313, 520618, 534604, 876474]</td>\n",
       "      <td>[156175, 577151, 759179, 763348, 849691]</td>\n",
       "      <td>[146823, 292621, 321242, 780132, 863712]</td>\n",
       "      <td>[275286, 318041, 506560, 625456, 796102]</td>\n",
       "      <td>[271010, 292976, 306962, 717506, 882952]</td>\n",
       "      <td>[059367, 165108, 443218, 521355, 782552]</td>\n",
       "      <td>[265514, 741212, 906944, 922280, 948458]</td>\n",
       "      <td>[101633, 512010, 544525, 769799, 849581]</td>\n",
       "      <td>...</td>\n",
       "      <td>[182698, 201415, 370011, 621751, 836615]</td>\n",
       "      <td>[148217, 318902, 832477, 838656, 912375]</td>\n",
       "      <td>[011186, 330834, 512209, 623481, 689393]</td>\n",
       "      <td>[031023, 121525, 476092, 579775, 724016]</td>\n",
       "      <td>[298683, 441967, 489531, 895053, 895362]</td>\n",
       "      <td>[157480, 347351, 747217, 869237, 881031]</td>\n",
       "      <td>[247447, 418289, 582552, 836111, 880824]</td>\n",
       "      <td>[269401, 516556, 620723, 793819, 929209]</td>\n",
       "      <td>[388271, 527562, 654690, 926047, 951015]</td>\n",
       "      <td>[102788, 114281, 433199, 552873, 868604]</td>\n",
       "    </tr>\n",
       "  </tbody>\n",
       "</table>\n",
       "<p>2 rows × 94 columns</p>\n",
       "</div>"
      ],
      "text/plain": [
       "                                         0   \\\n",
       "0                                  [589227]   \n",
       "1  [041656, 102110, 574473, 679758, 912367]   \n",
       "\n",
       "                                         1   \\\n",
       "0                                  [781403]   \n",
       "1  [031350, 186877, 236727, 320101, 624778]   \n",
       "\n",
       "                                         2   \\\n",
       "0                                  [875938]   \n",
       "1  [060416, 493313, 520618, 534604, 876474]   \n",
       "\n",
       "                                         3   \\\n",
       "0                                  [503446]   \n",
       "1  [156175, 577151, 759179, 763348, 849691]   \n",
       "\n",
       "                                         4   \\\n",
       "0                                  [051095]   \n",
       "1  [146823, 292621, 321242, 780132, 863712]   \n",
       "\n",
       "                                         5   \\\n",
       "0                                  [831567]   \n",
       "1  [275286, 318041, 506560, 625456, 796102]   \n",
       "\n",
       "                                         6   \\\n",
       "0                                  [516967]   \n",
       "1  [271010, 292976, 306962, 717506, 882952]   \n",
       "\n",
       "                                         7   \\\n",
       "0                                  [347258]   \n",
       "1  [059367, 165108, 443218, 521355, 782552]   \n",
       "\n",
       "                                         8   \\\n",
       "0                                  [873286]   \n",
       "1  [265514, 741212, 906944, 922280, 948458]   \n",
       "\n",
       "                                         9   ...  \\\n",
       "0                                  [569391]  ...   \n",
       "1  [101633, 512010, 544525, 769799, 849581]  ...   \n",
       "\n",
       "                                         84  \\\n",
       "0                                        []   \n",
       "1  [182698, 201415, 370011, 621751, 836615]   \n",
       "\n",
       "                                         85  \\\n",
       "0                                        []   \n",
       "1  [148217, 318902, 832477, 838656, 912375]   \n",
       "\n",
       "                                         86  \\\n",
       "0                                        []   \n",
       "1  [011186, 330834, 512209, 623481, 689393]   \n",
       "\n",
       "                                         87  \\\n",
       "0                                        []   \n",
       "1  [031023, 121525, 476092, 579775, 724016]   \n",
       "\n",
       "                                         88  \\\n",
       "0                                        []   \n",
       "1  [298683, 441967, 489531, 895053, 895362]   \n",
       "\n",
       "                                         89  \\\n",
       "0                                        []   \n",
       "1  [157480, 347351, 747217, 869237, 881031]   \n",
       "\n",
       "                                         90  \\\n",
       "0                                        []   \n",
       "1  [247447, 418289, 582552, 836111, 880824]   \n",
       "\n",
       "                                         91  \\\n",
       "0                                        []   \n",
       "1  [269401, 516556, 620723, 793819, 929209]   \n",
       "\n",
       "                                         92  \\\n",
       "0                                        []   \n",
       "1  [388271, 527562, 654690, 926047, 951015]   \n",
       "\n",
       "                                         93  \n",
       "0                                  [435286]  \n",
       "1  [102788, 114281, 433199, 552873, 868604]  \n",
       "\n",
       "[2 rows x 94 columns]"
      ]
     },
     "execution_count": 216,
     "metadata": {},
     "output_type": "execute_result"
    }
   ],
   "source": [
    "pd.DataFrame([np.array(big1),np.array(reward2)])"
   ]
  },
  {
   "cell_type": "markdown",
   "metadata": {},
   "source": [
    "https://www.lottery.co.th/lotto/1-10-62\n",
    "https://www.lottery.co.th/lotto/16-10-62\n",
    "https://www.lottery.co.th/lotto/1-11-62\n",
    "https://www.lottery.co.th/lotto/16-11-62\n",
    "https://www.lottery.co.th/lotto/1-12-62\n",
    "https://www.lottery.co.th/lotto/16-12-62\n",
    "https://www.lottery.co.th/lotto/1-10-61\n",
    "https://www.lottery.co.th/lotto/16-10-61\n",
    "https://www.lottery.co.th/lotto/1-11-61\n",
    "https://www.lottery.co.th/lotto/16-11-61\n",
    "https://www.lottery.co.th/lotto/1-12-61\n",
    "https://www.lottery.co.th/lotto/16-12-61\n",
    "https://www.lottery.co.th/lotto/1-10-60\n",
    "https://www.lottery.co.th/lotto/16-10-60\n",
    "https://www.lottery.co.th/lotto/1-11-60\n",
    "https://www.lottery.co.th/lotto/16-11-60\n",
    "https://www.lottery.co.th/lotto/1-12-60\n",
    "https://www.lottery.co.th/lotto/16-12-60\n",
    "https://www.lottery.co.th/lotto/1-10-59\n",
    "https://www.lottery.co.th/lotto/16-10-59\n",
    "https://www.lottery.co.th/lotto/1-11-59\n",
    "https://www.lottery.co.th/lotto/16-11-59\n",
    "https://www.lottery.co.th/lotto/1-12-59\n",
    "https://www.lottery.co.th/lotto/16-12-59"
   ]
  }
 ],
 "metadata": {
  "kernelspec": {
   "display_name": "Python 3",
   "language": "python",
   "name": "python3"
  },
  "language_info": {
   "codemirror_mode": {
    "name": "ipython",
    "version": 3
   },
   "file_extension": ".py",
   "mimetype": "text/x-python",
   "name": "python",
   "nbconvert_exporter": "python",
   "pygments_lexer": "ipython3",
   "version": "3.7.6"
  }
 },
 "nbformat": 4,
 "nbformat_minor": 4
}
