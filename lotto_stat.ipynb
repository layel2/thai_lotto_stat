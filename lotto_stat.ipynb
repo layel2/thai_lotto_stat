{
 "cells": [
  {
   "cell_type": "code",
   "execution_count": 1,
   "metadata": {},
   "outputs": [],
   "source": [
    "import numpy as np\n",
    "from matplotlib import pyplot as plt\n",
    "import pandas as pd"
   ]
  },
  {
   "cell_type": "markdown",
   "metadata": {},
   "source": [
    "# Thai Lotto"
   ]
  },
  {
   "cell_type": "code",
   "execution_count": 2,
   "metadata": {},
   "outputs": [],
   "source": [
    "data = pd.read_csv('lottodata.csv',dtype=str)"
   ]
  },
  {
   "cell_type": "code",
   "execution_count": 3,
   "metadata": {
    "scrolled": false
   },
   "outputs": [
    {
     "data": {
      "text/html": [
       "<div>\n",
       "<style scoped>\n",
       "    .dataframe tbody tr th:only-of-type {\n",
       "        vertical-align: middle;\n",
       "    }\n",
       "\n",
       "    .dataframe tbody tr th {\n",
       "        vertical-align: top;\n",
       "    }\n",
       "\n",
       "    .dataframe thead th {\n",
       "        text-align: right;\n",
       "    }\n",
       "</style>\n",
       "<table border=\"1\" class=\"dataframe\">\n",
       "  <thead>\n",
       "    <tr style=\"text-align: right;\">\n",
       "      <th></th>\n",
       "      <th>url</th>\n",
       "      <th>reward1</th>\n",
       "      <th>2digit</th>\n",
       "      <th>3digit_1</th>\n",
       "      <th>3digit_2</th>\n",
       "      <th>3digit_3</th>\n",
       "      <th>3digit_4</th>\n",
       "      <th>reward2_1</th>\n",
       "      <th>reward2_2</th>\n",
       "      <th>reward2_3</th>\n",
       "      <th>...</th>\n",
       "      <th>reward3_1</th>\n",
       "      <th>reward3_2</th>\n",
       "      <th>reward3_3</th>\n",
       "      <th>reward3_4</th>\n",
       "      <th>reward3_5</th>\n",
       "      <th>reward3_6</th>\n",
       "      <th>reward3_7</th>\n",
       "      <th>reward3_8</th>\n",
       "      <th>reward3_9</th>\n",
       "      <th>reward3_10</th>\n",
       "    </tr>\n",
       "  </thead>\n",
       "  <tbody>\n",
       "    <tr>\n",
       "      <th>0</th>\n",
       "      <td>https://www.lottery.co.th/lotto/1-09-63</td>\n",
       "      <td>999997</td>\n",
       "      <td>98</td>\n",
       "      <td>725</td>\n",
       "      <td>636</td>\n",
       "      <td>957</td>\n",
       "      <td>342</td>\n",
       "      <td>071298</td>\n",
       "      <td>283972</td>\n",
       "      <td>301191</td>\n",
       "      <td>...</td>\n",
       "      <td>183523</td>\n",
       "      <td>304732</td>\n",
       "      <td>310680</td>\n",
       "      <td>454913</td>\n",
       "      <td>669274</td>\n",
       "      <td>757539</td>\n",
       "      <td>777521</td>\n",
       "      <td>797960</td>\n",
       "      <td>810362</td>\n",
       "      <td>895221</td>\n",
       "    </tr>\n",
       "    <tr>\n",
       "      <th>1</th>\n",
       "      <td>https://www.lottery.co.th/lotto/16-08-63</td>\n",
       "      <td>945811</td>\n",
       "      <td>88</td>\n",
       "      <td>712</td>\n",
       "      <td>614</td>\n",
       "      <td>364</td>\n",
       "      <td>733</td>\n",
       "      <td>076190</td>\n",
       "      <td>290322</td>\n",
       "      <td>324730</td>\n",
       "      <td>...</td>\n",
       "      <td>025918</td>\n",
       "      <td>149654</td>\n",
       "      <td>155863</td>\n",
       "      <td>541281</td>\n",
       "      <td>583811</td>\n",
       "      <td>736329</td>\n",
       "      <td>858011</td>\n",
       "      <td>858319</td>\n",
       "      <td>885671</td>\n",
       "      <td>907940</td>\n",
       "    </tr>\n",
       "    <tr>\n",
       "      <th>2</th>\n",
       "      <td>https://www.lottery.co.th/lotto/1-08-63</td>\n",
       "      <td>569391</td>\n",
       "      <td>92</td>\n",
       "      <td>931</td>\n",
       "      <td>575</td>\n",
       "      <td>578</td>\n",
       "      <td>809</td>\n",
       "      <td>101633</td>\n",
       "      <td>512010</td>\n",
       "      <td>544525</td>\n",
       "      <td>...</td>\n",
       "      <td>030131</td>\n",
       "      <td>036873</td>\n",
       "      <td>085905</td>\n",
       "      <td>118907</td>\n",
       "      <td>136551</td>\n",
       "      <td>308143</td>\n",
       "      <td>403720</td>\n",
       "      <td>745312</td>\n",
       "      <td>777509</td>\n",
       "      <td>810800</td>\n",
       "    </tr>\n",
       "    <tr>\n",
       "      <th>3</th>\n",
       "      <td>https://www.lottery.co.th/lotto/16-07-63</td>\n",
       "      <td>873286</td>\n",
       "      <td>53</td>\n",
       "      <td>510</td>\n",
       "      <td>533</td>\n",
       "      <td>682</td>\n",
       "      <td>494</td>\n",
       "      <td>265514</td>\n",
       "      <td>741212</td>\n",
       "      <td>906944</td>\n",
       "      <td>...</td>\n",
       "      <td>073630</td>\n",
       "      <td>143752</td>\n",
       "      <td>173669</td>\n",
       "      <td>330820</td>\n",
       "      <td>473357</td>\n",
       "      <td>792949</td>\n",
       "      <td>845538</td>\n",
       "      <td>857511</td>\n",
       "      <td>861354</td>\n",
       "      <td>898120</td>\n",
       "    </tr>\n",
       "    <tr>\n",
       "      <th>4</th>\n",
       "      <td>https://www.lottery.co.th/lotto/1-07-63</td>\n",
       "      <td>347258</td>\n",
       "      <td>83</td>\n",
       "      <td>362</td>\n",
       "      <td>095</td>\n",
       "      <td>307</td>\n",
       "      <td>094</td>\n",
       "      <td>059367</td>\n",
       "      <td>165108</td>\n",
       "      <td>443218</td>\n",
       "      <td>...</td>\n",
       "      <td>030000</td>\n",
       "      <td>035010</td>\n",
       "      <td>167559</td>\n",
       "      <td>408333</td>\n",
       "      <td>458572</td>\n",
       "      <td>569662</td>\n",
       "      <td>699988</td>\n",
       "      <td>729594</td>\n",
       "      <td>758112</td>\n",
       "      <td>820265</td>\n",
       "    </tr>\n",
       "    <tr>\n",
       "      <th>5</th>\n",
       "      <td>https://www.lottery.co.th/lotto/16-06-63</td>\n",
       "      <td>516967</td>\n",
       "      <td>64</td>\n",
       "      <td>876</td>\n",
       "      <td>882</td>\n",
       "      <td>625</td>\n",
       "      <td>565</td>\n",
       "      <td>271010</td>\n",
       "      <td>292976</td>\n",
       "      <td>306962</td>\n",
       "      <td>...</td>\n",
       "      <td>134728</td>\n",
       "      <td>216930</td>\n",
       "      <td>328213</td>\n",
       "      <td>407422</td>\n",
       "      <td>436474</td>\n",
       "      <td>494318</td>\n",
       "      <td>542338</td>\n",
       "      <td>613509</td>\n",
       "      <td>795757</td>\n",
       "      <td>938138</td>\n",
       "    </tr>\n",
       "    <tr>\n",
       "      <th>6</th>\n",
       "      <td>https://www.lottery.co.th/lotto/1-06-63</td>\n",
       "      <td>831567</td>\n",
       "      <td>24</td>\n",
       "      <td>489</td>\n",
       "      <td>264</td>\n",
       "      <td>562</td>\n",
       "      <td>582</td>\n",
       "      <td>275286</td>\n",
       "      <td>318041</td>\n",
       "      <td>506560</td>\n",
       "      <td>...</td>\n",
       "      <td>234855</td>\n",
       "      <td>251188</td>\n",
       "      <td>257496</td>\n",
       "      <td>457553</td>\n",
       "      <td>515788</td>\n",
       "      <td>606161</td>\n",
       "      <td>666644</td>\n",
       "      <td>711491</td>\n",
       "      <td>956876</td>\n",
       "      <td>973272</td>\n",
       "    </tr>\n",
       "    <tr>\n",
       "      <th>7</th>\n",
       "      <td>https://www.lottery.co.th/lotto/1-04-63</td>\n",
       "      <td>051095</td>\n",
       "      <td>22</td>\n",
       "      <td>430</td>\n",
       "      <td>285</td>\n",
       "      <td>191</td>\n",
       "      <td>364</td>\n",
       "      <td>146823</td>\n",
       "      <td>292621</td>\n",
       "      <td>321242</td>\n",
       "      <td>...</td>\n",
       "      <td>050269</td>\n",
       "      <td>112075</td>\n",
       "      <td>118779</td>\n",
       "      <td>363077</td>\n",
       "      <td>421363</td>\n",
       "      <td>563533</td>\n",
       "      <td>595293</td>\n",
       "      <td>794058</td>\n",
       "      <td>935047</td>\n",
       "      <td>993767</td>\n",
       "    </tr>\n",
       "    <tr>\n",
       "      <th>8</th>\n",
       "      <td>https://www.lottery.co.th/lotto/16-03-63</td>\n",
       "      <td>503446</td>\n",
       "      <td>77</td>\n",
       "      <td>726</td>\n",
       "      <td>258</td>\n",
       "      <td>661</td>\n",
       "      <td>404</td>\n",
       "      <td>156175</td>\n",
       "      <td>577151</td>\n",
       "      <td>759179</td>\n",
       "      <td>...</td>\n",
       "      <td>198725</td>\n",
       "      <td>220592</td>\n",
       "      <td>355831</td>\n",
       "      <td>386486</td>\n",
       "      <td>514970</td>\n",
       "      <td>566251</td>\n",
       "      <td>593611</td>\n",
       "      <td>652021</td>\n",
       "      <td>783590</td>\n",
       "      <td>819863</td>\n",
       "    </tr>\n",
       "    <tr>\n",
       "      <th>9</th>\n",
       "      <td>https://www.lottery.co.th/lotto/1-03-63</td>\n",
       "      <td>875938</td>\n",
       "      <td>98</td>\n",
       "      <td>294</td>\n",
       "      <td>328</td>\n",
       "      <td>597</td>\n",
       "      <td>780</td>\n",
       "      <td>060416</td>\n",
       "      <td>493313</td>\n",
       "      <td>520618</td>\n",
       "      <td>...</td>\n",
       "      <td>014656</td>\n",
       "      <td>120115</td>\n",
       "      <td>134908</td>\n",
       "      <td>271109</td>\n",
       "      <td>283043</td>\n",
       "      <td>581228</td>\n",
       "      <td>601360</td>\n",
       "      <td>769895</td>\n",
       "      <td>836387</td>\n",
       "      <td>858575</td>\n",
       "    </tr>\n",
       "    <tr>\n",
       "      <th>10</th>\n",
       "      <td>https://www.lottery.co.th/lotto/16-02-63</td>\n",
       "      <td>781403</td>\n",
       "      <td>94</td>\n",
       "      <td>515</td>\n",
       "      <td>952</td>\n",
       "      <td>030</td>\n",
       "      <td>918</td>\n",
       "      <td>031350</td>\n",
       "      <td>186877</td>\n",
       "      <td>236727</td>\n",
       "      <td>...</td>\n",
       "      <td>095797</td>\n",
       "      <td>096409</td>\n",
       "      <td>114645</td>\n",
       "      <td>163530</td>\n",
       "      <td>215618</td>\n",
       "      <td>278606</td>\n",
       "      <td>468941</td>\n",
       "      <td>788719</td>\n",
       "      <td>880226</td>\n",
       "      <td>957558</td>\n",
       "    </tr>\n",
       "    <tr>\n",
       "      <th>11</th>\n",
       "      <td>https://www.lottery.co.th/lotto/1-02-63</td>\n",
       "      <td>589227</td>\n",
       "      <td>06</td>\n",
       "      <td>259</td>\n",
       "      <td>552</td>\n",
       "      <td>927</td>\n",
       "      <td>375</td>\n",
       "      <td>041656</td>\n",
       "      <td>102110</td>\n",
       "      <td>574473</td>\n",
       "      <td>...</td>\n",
       "      <td>088398</td>\n",
       "      <td>106269</td>\n",
       "      <td>126524</td>\n",
       "      <td>406371</td>\n",
       "      <td>567239</td>\n",
       "      <td>669498</td>\n",
       "      <td>694807</td>\n",
       "      <td>728615</td>\n",
       "      <td>728829</td>\n",
       "      <td>974847</td>\n",
       "    </tr>\n",
       "    <tr>\n",
       "      <th>12</th>\n",
       "      <td>https://www.lottery.co.th/lotto/16-12-62</td>\n",
       "      <td>529924</td>\n",
       "      <td>97</td>\n",
       "      <td>138</td>\n",
       "      <td>043</td>\n",
       "      <td>555</td>\n",
       "      <td>665</td>\n",
       "      <td>023945</td>\n",
       "      <td>270487</td>\n",
       "      <td>423855</td>\n",
       "      <td>...</td>\n",
       "      <td>132697</td>\n",
       "      <td>218711</td>\n",
       "      <td>290056</td>\n",
       "      <td>327673</td>\n",
       "      <td>460486</td>\n",
       "      <td>533651</td>\n",
       "      <td>624585</td>\n",
       "      <td>922510</td>\n",
       "      <td>925924</td>\n",
       "      <td>978094</td>\n",
       "    </tr>\n",
       "    <tr>\n",
       "      <th>13</th>\n",
       "      <td>https://www.lottery.co.th/lotto/1-12-62</td>\n",
       "      <td>453522</td>\n",
       "      <td>81</td>\n",
       "      <td>617</td>\n",
       "      <td>261</td>\n",
       "      <td>457</td>\n",
       "      <td>013</td>\n",
       "      <td>237087</td>\n",
       "      <td>378027</td>\n",
       "      <td>398640</td>\n",
       "      <td>...</td>\n",
       "      <td>038046</td>\n",
       "      <td>146155</td>\n",
       "      <td>180619</td>\n",
       "      <td>213700</td>\n",
       "      <td>285060</td>\n",
       "      <td>534143</td>\n",
       "      <td>768028</td>\n",
       "      <td>786648</td>\n",
       "      <td>935700</td>\n",
       "      <td>956356</td>\n",
       "    </tr>\n",
       "    <tr>\n",
       "      <th>14</th>\n",
       "      <td>https://www.lottery.co.th/lotto/16-11-62</td>\n",
       "      <td>017223</td>\n",
       "      <td>32</td>\n",
       "      <td>164</td>\n",
       "      <td>640</td>\n",
       "      <td>085</td>\n",
       "      <td>194</td>\n",
       "      <td>027192</td>\n",
       "      <td>589816</td>\n",
       "      <td>778298</td>\n",
       "      <td>...</td>\n",
       "      <td>009089</td>\n",
       "      <td>048948</td>\n",
       "      <td>159068</td>\n",
       "      <td>207548</td>\n",
       "      <td>327577</td>\n",
       "      <td>689685</td>\n",
       "      <td>841062</td>\n",
       "      <td>873903</td>\n",
       "      <td>909459</td>\n",
       "      <td>956379</td>\n",
       "    </tr>\n",
       "    <tr>\n",
       "      <th>15</th>\n",
       "      <td>https://www.lottery.co.th/lotto/1-11-62</td>\n",
       "      <td>967375</td>\n",
       "      <td>79</td>\n",
       "      <td>323</td>\n",
       "      <td>806</td>\n",
       "      <td>021</td>\n",
       "      <td>206</td>\n",
       "      <td>036499</td>\n",
       "      <td>128709</td>\n",
       "      <td>137339</td>\n",
       "      <td>...</td>\n",
       "      <td>262102</td>\n",
       "      <td>488298</td>\n",
       "      <td>541186</td>\n",
       "      <td>743402</td>\n",
       "      <td>828766</td>\n",
       "      <td>888178</td>\n",
       "      <td>941960</td>\n",
       "      <td>947887</td>\n",
       "      <td>971220</td>\n",
       "      <td>974841</td>\n",
       "    </tr>\n",
       "    <tr>\n",
       "      <th>16</th>\n",
       "      <td>https://www.lottery.co.th/lotto/16-10-62</td>\n",
       "      <td>812564</td>\n",
       "      <td>15</td>\n",
       "      <td>255</td>\n",
       "      <td>625</td>\n",
       "      <td>598</td>\n",
       "      <td>132</td>\n",
       "      <td>010810</td>\n",
       "      <td>389324</td>\n",
       "      <td>422672</td>\n",
       "      <td>...</td>\n",
       "      <td>184912</td>\n",
       "      <td>310103</td>\n",
       "      <td>400722</td>\n",
       "      <td>482422</td>\n",
       "      <td>498877</td>\n",
       "      <td>509278</td>\n",
       "      <td>588913</td>\n",
       "      <td>634449</td>\n",
       "      <td>792849</td>\n",
       "      <td>867144</td>\n",
       "    </tr>\n",
       "    <tr>\n",
       "      <th>17</th>\n",
       "      <td>https://www.lottery.co.th/lotto/1-10-62</td>\n",
       "      <td>691197</td>\n",
       "      <td>59</td>\n",
       "      <td>392</td>\n",
       "      <td>920</td>\n",
       "      <td>606</td>\n",
       "      <td>797</td>\n",
       "      <td>072716</td>\n",
       "      <td>154912</td>\n",
       "      <td>300478</td>\n",
       "      <td>...</td>\n",
       "      <td>114670</td>\n",
       "      <td>145780</td>\n",
       "      <td>175533</td>\n",
       "      <td>364255</td>\n",
       "      <td>419191</td>\n",
       "      <td>524324</td>\n",
       "      <td>544000</td>\n",
       "      <td>615040</td>\n",
       "      <td>865545</td>\n",
       "      <td>974267</td>\n",
       "    </tr>\n",
       "    <tr>\n",
       "      <th>18</th>\n",
       "      <td>https://www.lottery.co.th/lotto/16-09-62</td>\n",
       "      <td>340388</td>\n",
       "      <td>85</td>\n",
       "      <td>733</td>\n",
       "      <td>947</td>\n",
       "      <td>925</td>\n",
       "      <td>939</td>\n",
       "      <td>394807</td>\n",
       "      <td>403708</td>\n",
       "      <td>522822</td>\n",
       "      <td>...</td>\n",
       "      <td>111226</td>\n",
       "      <td>214686</td>\n",
       "      <td>285554</td>\n",
       "      <td>462347</td>\n",
       "      <td>501040</td>\n",
       "      <td>513233</td>\n",
       "      <td>640916</td>\n",
       "      <td>742666</td>\n",
       "      <td>744181</td>\n",
       "      <td>974506</td>\n",
       "    </tr>\n",
       "    <tr>\n",
       "      <th>19</th>\n",
       "      <td>https://www.lottery.co.th/lotto/1-09-62</td>\n",
       "      <td>798787</td>\n",
       "      <td>20</td>\n",
       "      <td>210</td>\n",
       "      <td>847</td>\n",
       "      <td>439</td>\n",
       "      <td>274</td>\n",
       "      <td>269951</td>\n",
       "      <td>294121</td>\n",
       "      <td>500876</td>\n",
       "      <td>...</td>\n",
       "      <td>049916</td>\n",
       "      <td>057429</td>\n",
       "      <td>226845</td>\n",
       "      <td>305146</td>\n",
       "      <td>399554</td>\n",
       "      <td>560883</td>\n",
       "      <td>637613</td>\n",
       "      <td>640895</td>\n",
       "      <td>653200</td>\n",
       "      <td>774482</td>\n",
       "    </tr>\n",
       "  </tbody>\n",
       "</table>\n",
       "<p>20 rows × 22 columns</p>\n",
       "</div>"
      ],
      "text/plain": [
       "                                         url reward1 2digit 3digit_1 3digit_2  \\\n",
       "0    https://www.lottery.co.th/lotto/1-09-63  999997     98      725      636   \n",
       "1   https://www.lottery.co.th/lotto/16-08-63  945811     88      712      614   \n",
       "2    https://www.lottery.co.th/lotto/1-08-63  569391     92      931      575   \n",
       "3   https://www.lottery.co.th/lotto/16-07-63  873286     53      510      533   \n",
       "4    https://www.lottery.co.th/lotto/1-07-63  347258     83      362      095   \n",
       "5   https://www.lottery.co.th/lotto/16-06-63  516967     64      876      882   \n",
       "6    https://www.lottery.co.th/lotto/1-06-63  831567     24      489      264   \n",
       "7    https://www.lottery.co.th/lotto/1-04-63  051095     22      430      285   \n",
       "8   https://www.lottery.co.th/lotto/16-03-63  503446     77      726      258   \n",
       "9    https://www.lottery.co.th/lotto/1-03-63  875938     98      294      328   \n",
       "10  https://www.lottery.co.th/lotto/16-02-63  781403     94      515      952   \n",
       "11   https://www.lottery.co.th/lotto/1-02-63  589227     06      259      552   \n",
       "12  https://www.lottery.co.th/lotto/16-12-62  529924     97      138      043   \n",
       "13   https://www.lottery.co.th/lotto/1-12-62  453522     81      617      261   \n",
       "14  https://www.lottery.co.th/lotto/16-11-62  017223     32      164      640   \n",
       "15   https://www.lottery.co.th/lotto/1-11-62  967375     79      323      806   \n",
       "16  https://www.lottery.co.th/lotto/16-10-62  812564     15      255      625   \n",
       "17   https://www.lottery.co.th/lotto/1-10-62  691197     59      392      920   \n",
       "18  https://www.lottery.co.th/lotto/16-09-62  340388     85      733      947   \n",
       "19   https://www.lottery.co.th/lotto/1-09-62  798787     20      210      847   \n",
       "\n",
       "   3digit_3 3digit_4 reward2_1 reward2_2 reward2_3  ... reward3_1 reward3_2  \\\n",
       "0       957      342    071298    283972    301191  ...    183523    304732   \n",
       "1       364      733    076190    290322    324730  ...    025918    149654   \n",
       "2       578      809    101633    512010    544525  ...    030131    036873   \n",
       "3       682      494    265514    741212    906944  ...    073630    143752   \n",
       "4       307      094    059367    165108    443218  ...    030000    035010   \n",
       "5       625      565    271010    292976    306962  ...    134728    216930   \n",
       "6       562      582    275286    318041    506560  ...    234855    251188   \n",
       "7       191      364    146823    292621    321242  ...    050269    112075   \n",
       "8       661      404    156175    577151    759179  ...    198725    220592   \n",
       "9       597      780    060416    493313    520618  ...    014656    120115   \n",
       "10      030      918    031350    186877    236727  ...    095797    096409   \n",
       "11      927      375    041656    102110    574473  ...    088398    106269   \n",
       "12      555      665    023945    270487    423855  ...    132697    218711   \n",
       "13      457      013    237087    378027    398640  ...    038046    146155   \n",
       "14      085      194    027192    589816    778298  ...    009089    048948   \n",
       "15      021      206    036499    128709    137339  ...    262102    488298   \n",
       "16      598      132    010810    389324    422672  ...    184912    310103   \n",
       "17      606      797    072716    154912    300478  ...    114670    145780   \n",
       "18      925      939    394807    403708    522822  ...    111226    214686   \n",
       "19      439      274    269951    294121    500876  ...    049916    057429   \n",
       "\n",
       "   reward3_3 reward3_4 reward3_5 reward3_6 reward3_7 reward3_8 reward3_9  \\\n",
       "0     310680    454913    669274    757539    777521    797960    810362   \n",
       "1     155863    541281    583811    736329    858011    858319    885671   \n",
       "2     085905    118907    136551    308143    403720    745312    777509   \n",
       "3     173669    330820    473357    792949    845538    857511    861354   \n",
       "4     167559    408333    458572    569662    699988    729594    758112   \n",
       "5     328213    407422    436474    494318    542338    613509    795757   \n",
       "6     257496    457553    515788    606161    666644    711491    956876   \n",
       "7     118779    363077    421363    563533    595293    794058    935047   \n",
       "8     355831    386486    514970    566251    593611    652021    783590   \n",
       "9     134908    271109    283043    581228    601360    769895    836387   \n",
       "10    114645    163530    215618    278606    468941    788719    880226   \n",
       "11    126524    406371    567239    669498    694807    728615    728829   \n",
       "12    290056    327673    460486    533651    624585    922510    925924   \n",
       "13    180619    213700    285060    534143    768028    786648    935700   \n",
       "14    159068    207548    327577    689685    841062    873903    909459   \n",
       "15    541186    743402    828766    888178    941960    947887    971220   \n",
       "16    400722    482422    498877    509278    588913    634449    792849   \n",
       "17    175533    364255    419191    524324    544000    615040    865545   \n",
       "18    285554    462347    501040    513233    640916    742666    744181   \n",
       "19    226845    305146    399554    560883    637613    640895    653200   \n",
       "\n",
       "   reward3_10  \n",
       "0      895221  \n",
       "1      907940  \n",
       "2      810800  \n",
       "3      898120  \n",
       "4      820265  \n",
       "5      938138  \n",
       "6      973272  \n",
       "7      993767  \n",
       "8      819863  \n",
       "9      858575  \n",
       "10     957558  \n",
       "11     974847  \n",
       "12     978094  \n",
       "13     956356  \n",
       "14     956379  \n",
       "15     974841  \n",
       "16     867144  \n",
       "17     974267  \n",
       "18     974506  \n",
       "19     774482  \n",
       "\n",
       "[20 rows x 22 columns]"
      ]
     },
     "execution_count": 3,
     "metadata": {},
     "output_type": "execute_result"
    }
   ],
   "source": [
    "data.head(20)"
   ]
  },
  {
   "cell_type": "code",
   "execution_count": 4,
   "metadata": {},
   "outputs": [
    {
     "data": {
      "text/plain": [
       "Index(['url', 'reward1', '2digit', '3digit_1', '3digit_2', '3digit_3',\n",
       "       '3digit_4', 'reward2_1', 'reward2_2', 'reward2_3', 'reward2_4',\n",
       "       'reward2_5', 'reward3_1', 'reward3_2', 'reward3_3', 'reward3_4',\n",
       "       'reward3_5', 'reward3_6', 'reward3_7', 'reward3_8', 'reward3_9',\n",
       "       'reward3_10'],\n",
       "      dtype='object')"
      ]
     },
     "execution_count": 4,
     "metadata": {},
     "output_type": "execute_result"
    }
   ],
   "source": [
    "data.columns"
   ]
  },
  {
   "cell_type": "code",
   "execution_count": 5,
   "metadata": {
    "scrolled": true
   },
   "outputs": [
    {
     "data": {
      "text/plain": [
       "array([['9', '9', '9', '9', '9', '7'],\n",
       "       ['9', '4', '5', '8', '1', '1'],\n",
       "       ['5', '6', '9', '3', '9', '1'],\n",
       "       ['8', '7', '3', '2', '8', '6'],\n",
       "       ['3', '4', '7', '2', '5', '8'],\n",
       "       ['5', '1', '6', '9', '6', '7'],\n",
       "       ['8', '3', '1', '5', '6', '7'],\n",
       "       ['0', '5', '1', '0', '9', '5'],\n",
       "       ['5', '0', '3', '4', '4', '6'],\n",
       "       ['8', '7', '5', '9', '3', '8'],\n",
       "       ['7', '8', '1', '4', '0', '3'],\n",
       "       ['5', '8', '9', '2', '2', '7'],\n",
       "       ['5', '2', '9', '9', '2', '4'],\n",
       "       ['4', '5', '3', '5', '2', '2'],\n",
       "       ['0', '1', '7', '2', '2', '3'],\n",
       "       ['9', '6', '7', '3', '7', '5'],\n",
       "       ['8', '1', '2', '5', '6', '4'],\n",
       "       ['6', '9', '1', '1', '9', '7'],\n",
       "       ['3', '4', '0', '3', '8', '8'],\n",
       "       ['7', '9', '8', '7', '8', '7'],\n",
       "       ['7', '7', '5', '4', '7', '6'],\n",
       "       ['3', '8', '7', '0', '0', '6'],\n",
       "       ['9', '4', '3', '6', '4', '7'],\n",
       "       ['1', '7', '4', '0', '5', '5'],\n",
       "       ['5', '1', '6', '4', '6', '1'],\n",
       "       ['9', '6', '2', '5', '2', '6'],\n",
       "       ['5', '7', '0', '3', '3', '1'],\n",
       "       ['1', '0', '9', '7', '6', '7'],\n",
       "       ['7', '2', '4', '6', '2', '8'],\n",
       "       ['3', '4', '5', '6', '5', '0'],\n",
       "       ['0', '7', '4', '8', '2', '4'],\n",
       "       ['9', '6', '7', '1', '3', '4'],\n",
       "       ['3', '5', '6', '5', '6', '4'],\n",
       "       ['0', '2', '1', '8', '4', '0'],\n",
       "       ['9', '8', '9', '9', '0', '3'],\n",
       "       ['1', '4', '9', '8', '4', '0'],\n",
       "       ['2', '0', '0', '5', '1', '5'],\n",
       "       ['4', '5', '2', '6', '4', '3'],\n",
       "       ['1', '4', '9', '7', '6', '0'],\n",
       "       ['7', '3', '4', '5', '1', '0'],\n",
       "       ['5', '8', '6', '1', '1', '7'],\n",
       "       ['3', '8', '6', '6', '0', '2'],\n",
       "       ['5', '9', '6', '3', '2', '4'],\n",
       "       ['9', '6', '3', '6', '2', '3'],\n",
       "       ['2', '2', '3', '1', '3', '1'],\n",
       "       ['9', '8', '8', '1', '1', '7'],\n",
       "       ['0', '7', '5', '6', '2', '9'],\n",
       "       ['7', '3', '9', '2', '2', '9'],\n",
       "       ['4', '1', '2', '0', '7', '3'],\n",
       "       ['2', '1', '8', '5', '5', '9'],\n",
       "       ['3', '0', '9', '9', '1', '5'],\n",
       "       ['0', '2', '6', '8', '5', '3'],\n",
       "       ['9', '5', '5', '5', '9', '6'],\n",
       "       ['4', '5', '1', '0', '0', '5'],\n",
       "       ['2', '9', '2', '3', '9', '1'],\n",
       "       ['5', '3', '3', '7', '2', '6'],\n",
       "       ['4', '1', '3', '4', '9', '4'],\n",
       "       ['8', '8', '0', '7', '1', '4'],\n",
       "       ['1', '7', '0', '1', '4', '3'],\n",
       "       ['1', '4', '3', '2', '2', '4'],\n",
       "       ['7', '1', '5', '4', '3', '1'],\n",
       "       ['7', '5', '6', '5', '1', '9'],\n",
       "       ['8', '2', '0', '3', '2', '7'],\n",
       "       ['1', '1', '2', '3', '6', '0'],\n",
       "       ['9', '4', '3', '1', '4', '2'],\n",
       "       ['0', '5', '3', '6', '3', '0'],\n",
       "       ['4', '5', '4', '8', '9', '1'],\n",
       "       ['8', '1', '6', '7', '2', '9'],\n",
       "       ['3', '9', '2', '7', '8', '5'],\n",
       "       ['2', '7', '3', '8', '6', '3'],\n",
       "       ['9', '7', '8', '4', '5', '3'],\n",
       "       ['2', '2', '9', '1', '1', '6'],\n",
       "       ['0', '5', '4', '6', '7', '2']], dtype='<U1')"
      ]
     },
     "execution_count": 5,
     "metadata": {},
     "output_type": "execute_result"
    }
   ],
   "source": [
    "data_split = np.array(data['reward1'].str.split('').to_list())[:,1:-1]\n",
    "data_split"
   ]
  },
  {
   "cell_type": "code",
   "execution_count": 6,
   "metadata": {},
   "outputs": [],
   "source": [
    "for col in data.columns[2:11]:\n",
    "    data_split = np.hstack( [ data_split,    np.array(data[col].str.split('').to_list())[:,1:-1]    ]   )"
   ]
  },
  {
   "cell_type": "code",
   "execution_count": 7,
   "metadata": {},
   "outputs": [
    {
     "data": {
      "text/plain": [
       "(73, 44)"
      ]
     },
     "execution_count": 7,
     "metadata": {},
     "output_type": "execute_result"
    }
   ],
   "source": [
    "data_split = data_split.astype(int)\n",
    "data_split.shape"
   ]
  },
  {
   "cell_type": "code",
   "execution_count": 8,
   "metadata": {},
   "outputs": [
    {
     "data": {
      "text/plain": [
       "4.39321295143213"
      ]
     },
     "execution_count": 8,
     "metadata": {},
     "output_type": "execute_result"
    }
   ],
   "source": [
    "data_split.mean()"
   ]
  },
  {
   "cell_type": "code",
   "execution_count": 9,
   "metadata": {},
   "outputs": [
    {
     "data": {
      "text/plain": [
       "(44,)"
      ]
     },
     "execution_count": 9,
     "metadata": {},
     "output_type": "execute_result"
    }
   ],
   "source": [
    "data_split.mean(axis=0).shape"
   ]
  },
  {
   "cell_type": "code",
   "execution_count": 10,
   "metadata": {},
   "outputs": [
    {
     "data": {
      "text/plain": [
       "Text(0.5, 1.0, 'Thai lotto')"
      ]
     },
     "execution_count": 10,
     "metadata": {},
     "output_type": "execute_result"
    },
    {
     "data": {
      "image/png": "[encoded data removed]",
      "text/plain": [
       "<Figure size 432x288 with 1 Axes>"
      ]
     },
     "metadata": {
      "needs_background": "light"
     },
     "output_type": "display_data"
    }
   ],
   "source": [
    "ret = plt.hist(data_split.mean(axis=0),bins=20)\n",
    "plt.xlabel('Mean')\n",
    "plt.ylabel('Frequency')\n",
    "plt.title('Thai lotto')"
   ]
  },
  {
   "cell_type": "markdown",
   "metadata": {},
   "source": [
    "# Theory"
   ]
  },
  {
   "cell_type": "code",
   "execution_count": 11,
   "metadata": {},
   "outputs": [],
   "source": [
    "num_ran = np.random.randint(0,10,data_split.shape)"
   ]
  },
  {
   "cell_type": "code",
   "execution_count": 12,
   "metadata": {
    "scrolled": false
   },
   "outputs": [
    {
     "data": {
      "text/plain": [
       "Text(0.5, 1.0, 'Theory')"
      ]
     },
     "execution_count": 12,
     "metadata": {},
     "output_type": "execute_result"
    },
    {
     "data": {
      "image/png": "[encoded data removed]",
      "text/plain": [
       "<Figure size 432x288 with 1 Axes>"
      ]
     },
     "metadata": {
      "needs_background": "light"
     },
     "output_type": "display_data"
    }
   ],
   "source": [
    "plt.hist(num_ran.mean(axis=0),bins=ret[1])\n",
    "plt.xlabel('Mean')\n",
    "plt.ylabel('Frequency')\n",
    "plt.title('Theory')"
   ]
  },
  {
   "cell_type": "code",
   "execution_count": 13,
   "metadata": {},
   "outputs": [
    {
     "data": {
      "text/plain": [
       "4.469489414694894"
      ]
     },
     "execution_count": 13,
     "metadata": {},
     "output_type": "execute_result"
    }
   ],
   "source": [
    "num_ran.mean()"
   ]
  },
  {
   "cell_type": "markdown",
   "metadata": {},
   "source": [
    "# ดูตัวที่ Mean ต่ำ"
   ]
  },
  {
   "cell_type": "code",
   "execution_count": 14,
   "metadata": {},
   "outputs": [
    {
     "data": {
      "text/plain": [
       "(array([20, 26], dtype=int64),)"
      ]
     },
     "execution_count": 14,
     "metadata": {},
     "output_type": "execute_result"
    }
   ],
   "source": [
    "np.where(data_split.mean(axis=0)<3)"
   ]
  },
  {
   "cell_type": "code",
   "execution_count": 15,
   "metadata": {},
   "outputs": [],
   "source": [
    "rew21 = np.array(data['reward2_1'].str.split('').to_list())[:,1:-1].astype(int)"
   ]
  },
  {
   "cell_type": "code",
   "execution_count": 16,
   "metadata": {},
   "outputs": [
    {
     "data": {
      "text/plain": [
       "3.625570776255708"
      ]
     },
     "execution_count": 16,
     "metadata": {},
     "output_type": "execute_result"
    }
   ],
   "source": [
    "rew21.mean()"
   ]
  },
  {
   "cell_type": "code",
   "execution_count": 17,
   "metadata": {},
   "outputs": [
    {
     "data": {
      "text/plain": [
       "array([0.80821918, 3.47945205, 4.17808219, 4.95890411, 4.36986301,\n",
       "       3.95890411])"
      ]
     },
     "execution_count": 17,
     "metadata": {},
     "output_type": "execute_result"
    }
   ],
   "source": [
    "rew21.mean(axis=0)"
   ]
  },
  {
   "cell_type": "code",
   "execution_count": 18,
   "metadata": {},
   "outputs": [
    {
     "data": {
      "text/plain": [
       "array([0, 0, 1, 2, 0, 2, 2, 1, 1, 0, 0, 0, 0, 2, 0, 0, 0, 0, 3, 2, 6, 0,\n",
       "       1, 1, 0, 1, 3, 1, 0, 0, 0, 0, 0, 0, 2, 0, 0, 2, 0, 0, 0, 1, 1, 0,\n",
       "       0, 3, 2, 0, 0, 1, 0, 1, 1, 0, 0, 2, 1, 1, 0, 2, 0, 0, 2, 1, 1, 2,\n",
       "       0, 0, 0, 2, 1, 1, 0])"
      ]
     },
     "execution_count": 18,
     "metadata": {},
     "output_type": "execute_result"
    }
   ],
   "source": [
    "rew21[:,0]"
   ]
  },
  {
   "cell_type": "code",
   "execution_count": 19,
   "metadata": {
    "scrolled": true
   },
   "outputs": [
    {
     "data": {
      "text/html": [
       "<div>\n",
       "<style scoped>\n",
       "    .dataframe tbody tr th:only-of-type {\n",
       "        vertical-align: middle;\n",
       "    }\n",
       "\n",
       "    .dataframe tbody tr th {\n",
       "        vertical-align: top;\n",
       "    }\n",
       "\n",
       "    .dataframe thead th {\n",
       "        text-align: right;\n",
       "    }\n",
       "</style>\n",
       "<table border=\"1\" class=\"dataframe\">\n",
       "  <thead>\n",
       "    <tr style=\"text-align: right;\">\n",
       "      <th></th>\n",
       "      <th>url</th>\n",
       "      <th>reward2_1</th>\n",
       "    </tr>\n",
       "  </thead>\n",
       "  <tbody>\n",
       "    <tr>\n",
       "      <th>0</th>\n",
       "      <td>https://www.lottery.co.th/lotto/1-09-63</td>\n",
       "      <td>071298</td>\n",
       "    </tr>\n",
       "    <tr>\n",
       "      <th>1</th>\n",
       "      <td>https://www.lottery.co.th/lotto/16-08-63</td>\n",
       "      <td>076190</td>\n",
       "    </tr>\n",
       "    <tr>\n",
       "      <th>2</th>\n",
       "      <td>https://www.lottery.co.th/lotto/1-08-63</td>\n",
       "      <td>101633</td>\n",
       "    </tr>\n",
       "    <tr>\n",
       "      <th>3</th>\n",
       "      <td>https://www.lottery.co.th/lotto/16-07-63</td>\n",
       "      <td>265514</td>\n",
       "    </tr>\n",
       "    <tr>\n",
       "      <th>4</th>\n",
       "      <td>https://www.lottery.co.th/lotto/1-07-63</td>\n",
       "      <td>059367</td>\n",
       "    </tr>\n",
       "    <tr>\n",
       "      <th>5</th>\n",
       "      <td>https://www.lottery.co.th/lotto/16-06-63</td>\n",
       "      <td>271010</td>\n",
       "    </tr>\n",
       "    <tr>\n",
       "      <th>6</th>\n",
       "      <td>https://www.lottery.co.th/lotto/1-06-63</td>\n",
       "      <td>275286</td>\n",
       "    </tr>\n",
       "    <tr>\n",
       "      <th>7</th>\n",
       "      <td>https://www.lottery.co.th/lotto/1-04-63</td>\n",
       "      <td>146823</td>\n",
       "    </tr>\n",
       "    <tr>\n",
       "      <th>8</th>\n",
       "      <td>https://www.lottery.co.th/lotto/16-03-63</td>\n",
       "      <td>156175</td>\n",
       "    </tr>\n",
       "    <tr>\n",
       "      <th>9</th>\n",
       "      <td>https://www.lottery.co.th/lotto/1-03-63</td>\n",
       "      <td>060416</td>\n",
       "    </tr>\n",
       "    <tr>\n",
       "      <th>10</th>\n",
       "      <td>https://www.lottery.co.th/lotto/16-02-63</td>\n",
       "      <td>031350</td>\n",
       "    </tr>\n",
       "    <tr>\n",
       "      <th>11</th>\n",
       "      <td>https://www.lottery.co.th/lotto/1-02-63</td>\n",
       "      <td>041656</td>\n",
       "    </tr>\n",
       "    <tr>\n",
       "      <th>12</th>\n",
       "      <td>https://www.lottery.co.th/lotto/16-12-62</td>\n",
       "      <td>023945</td>\n",
       "    </tr>\n",
       "    <tr>\n",
       "      <th>13</th>\n",
       "      <td>https://www.lottery.co.th/lotto/1-12-62</td>\n",
       "      <td>237087</td>\n",
       "    </tr>\n",
       "    <tr>\n",
       "      <th>14</th>\n",
       "      <td>https://www.lottery.co.th/lotto/16-11-62</td>\n",
       "      <td>027192</td>\n",
       "    </tr>\n",
       "    <tr>\n",
       "      <th>15</th>\n",
       "      <td>https://www.lottery.co.th/lotto/1-11-62</td>\n",
       "      <td>036499</td>\n",
       "    </tr>\n",
       "    <tr>\n",
       "      <th>16</th>\n",
       "      <td>https://www.lottery.co.th/lotto/16-10-62</td>\n",
       "      <td>010810</td>\n",
       "    </tr>\n",
       "    <tr>\n",
       "      <th>17</th>\n",
       "      <td>https://www.lottery.co.th/lotto/1-10-62</td>\n",
       "      <td>072716</td>\n",
       "    </tr>\n",
       "    <tr>\n",
       "      <th>18</th>\n",
       "      <td>https://www.lottery.co.th/lotto/16-09-62</td>\n",
       "      <td>394807</td>\n",
       "    </tr>\n",
       "    <tr>\n",
       "      <th>19</th>\n",
       "      <td>https://www.lottery.co.th/lotto/1-09-62</td>\n",
       "      <td>269951</td>\n",
       "    </tr>\n",
       "  </tbody>\n",
       "</table>\n",
       "</div>"
      ],
      "text/plain": [
       "                                         url reward2_1\n",
       "0    https://www.lottery.co.th/lotto/1-09-63    071298\n",
       "1   https://www.lottery.co.th/lotto/16-08-63    076190\n",
       "2    https://www.lottery.co.th/lotto/1-08-63    101633\n",
       "3   https://www.lottery.co.th/lotto/16-07-63    265514\n",
       "4    https://www.lottery.co.th/lotto/1-07-63    059367\n",
       "5   https://www.lottery.co.th/lotto/16-06-63    271010\n",
       "6    https://www.lottery.co.th/lotto/1-06-63    275286\n",
       "7    https://www.lottery.co.th/lotto/1-04-63    146823\n",
       "8   https://www.lottery.co.th/lotto/16-03-63    156175\n",
       "9    https://www.lottery.co.th/lotto/1-03-63    060416\n",
       "10  https://www.lottery.co.th/lotto/16-02-63    031350\n",
       "11   https://www.lottery.co.th/lotto/1-02-63    041656\n",
       "12  https://www.lottery.co.th/lotto/16-12-62    023945\n",
       "13   https://www.lottery.co.th/lotto/1-12-62    237087\n",
       "14  https://www.lottery.co.th/lotto/16-11-62    027192\n",
       "15   https://www.lottery.co.th/lotto/1-11-62    036499\n",
       "16  https://www.lottery.co.th/lotto/16-10-62    010810\n",
       "17   https://www.lottery.co.th/lotto/1-10-62    072716\n",
       "18  https://www.lottery.co.th/lotto/16-09-62    394807\n",
       "19   https://www.lottery.co.th/lotto/1-09-62    269951"
      ]
     },
     "execution_count": 19,
     "metadata": {},
     "output_type": "execute_result"
    }
   ],
   "source": [
    "data[['url','reward2_1']].head(20)"
   ]
  },
  {
   "cell_type": "code",
   "execution_count": 20,
   "metadata": {},
   "outputs": [
    {
     "data": {
      "text/plain": [
       "38"
      ]
     },
     "execution_count": 20,
     "metadata": {},
     "output_type": "execute_result"
    }
   ],
   "source": [
    "(rew21[:,0]==0).sum()"
   ]
  },
  {
   "cell_type": "markdown",
   "metadata": {},
   "source": [
    "# ออกเลขซ้ำ 5 ตัว"
   ]
  },
  {
   "cell_type": "code",
   "execution_count": 36,
   "metadata": {
    "scrolled": false
   },
   "outputs": [
    {
     "name": "stdout",
     "output_type": "stream",
     "text": [
      "https://www.lottery.co.th/lotto/1-09-63 reward1 ['9' '9' '9' '9' '9' '7']\n",
      "https://www.lottery.co.th/lotto/1-07-63 reward3_1 ['0' '3' '0' '0' '0' '0']\n"
     ]
    }
   ],
   "source": [
    "for col in data.drop(columns=['url','2digit','3digit_1','3digit_2','3digit_3','3digit_4']).columns :\n",
    "    counter = 0\n",
    "    split_temp =np.array(data[col].str.split('').to_list())[:,1:-1]  \n",
    "    for nums in split_temp:\n",
    "        if 5 in np.unique(nums,return_counts=True)[1] :\n",
    "            print(data.iloc[counter].url,col,nums)\n",
    "        counter += 1"
   ]
  },
  {
   "cell_type": "markdown",
   "metadata": {},
   "source": [
    "# ออกเลขแค่สองตัว"
   ]
  },
  {
   "cell_type": "code",
   "execution_count": 37,
   "metadata": {},
   "outputs": [
    {
     "name": "stdout",
     "output_type": "stream",
     "text": [
      "https://www.lottery.co.th/lotto/1-09-63 reward1 ['9' '9' '9' '9' '9' '7']\n",
      "https://www.lottery.co.th/lotto/16-08-61 reward2_2 ['3' '6' '3' '6' '3' '3']\n",
      "https://www.lottery.co.th/lotto/1-06-60 reward2_3 ['5' '2' '5' '2' '5' '2']\n",
      "https://www.lottery.co.th/lotto/1-07-63 reward3_1 ['0' '3' '0' '0' '0' '0']\n",
      "https://www.lottery.co.th/lotto/1-09-61 reward3_4 ['4' '4' '3' '4' '3' '3']\n",
      "https://www.lottery.co.th/lotto/1-06-63 reward3_7 ['6' '6' '6' '6' '4' '4']\n"
     ]
    }
   ],
   "source": [
    "for col in data.drop(columns=['url','2digit','3digit_1','3digit_2','3digit_3','3digit_4']).columns :\n",
    "    counter = 0\n",
    "    split_temp =np.array(data[col].str.split('').to_list())[:,1:-1]  \n",
    "    for nums in split_temp:\n",
    "        if len(np.unique(nums)) <= 2:\n",
    "            print(data.iloc[counter].url,col,nums)\n",
    "        counter += 1"
   ]
  },
  {
   "cell_type": "code",
   "execution_count": 32,
   "metadata": {},
   "outputs": [
    {
     "data": {
      "text/plain": [
       "True"
      ]
     },
     "execution_count": 32,
     "metadata": {},
     "output_type": "execute_result"
    }
   ],
   "source": [
    "5 in np.unique(split_temp[0],return_counts=True)[1]"
   ]
  },
  {
   "cell_type": "markdown",
   "metadata": {},
   "source": [
    "# รางวัลที่ 1 ซ้ำ 4 ตัว"
   ]
  },
  {
   "cell_type": "code",
   "execution_count": 39,
   "metadata": {},
   "outputs": [],
   "source": [
    "for col in ['reward1'] :\n",
    "    counter = 0\n",
    "    split_temp =np.array(data[col].str.split('').to_list())[:,1:-1]  \n",
    "    for nums in split_temp:\n",
    "        if  4 in np.unique(nums,return_counts=True)[1]:\n",
    "            print(data.iloc[counter].url,col,nums)\n",
    "        counter += 1"
   ]
  },
  {
   "cell_type": "code",
   "execution_count": null,
   "metadata": {},
   "outputs": [],
   "source": []
  }
 ],
 "metadata": {
  "kernelspec": {
   "display_name": "Python 3",
   "language": "python",
   "name": "python3"
  },
  "language_info": {
   "codemirror_mode": {
    "name": "ipython",
    "version": 3
   },
   "file_extension": ".py",
   "mimetype": "text/x-python",
   "name": "python",
   "nbconvert_exporter": "python",
   "pygments_lexer": "ipython3",
   "version": "3.7.6"
  }
 },
 "nbformat": 4,
 "nbformat_minor": 4
}
